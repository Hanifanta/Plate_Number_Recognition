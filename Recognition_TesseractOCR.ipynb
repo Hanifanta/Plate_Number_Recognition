{
 "cells": [
  {
   "cell_type": "markdown",
   "metadata": {},
   "source": [
    "## LICENSE PLATE NUMBER RECOGNITION USING PYTESSERACT"
   ]
  },
  {
   "cell_type": "markdown",
   "metadata": {},
   "source": [
    "#### 1. Importing required libraries"
   ]
  },
  {
   "cell_type": "code",
   "execution_count": 1,
   "metadata": {},
   "outputs": [],
   "source": [
    "import pytesseract \n",
    "import matplotlib.pyplot as plt\n",
    "from tkinter import *\n",
    "from PIL import ImageTk, Image , ImageFilter\n",
    "import cv2 \n",
    "import glob \n",
    "import os"
   ]
  },
  {
   "cell_type": "markdown",
   "metadata": {},
   "source": [
    "#### 2. Attaching the tesseract execution file"
   ]
  },
  {
   "cell_type": "code",
   "execution_count": 2,
   "metadata": {},
   "outputs": [],
   "source": [
    "pytesseract.pytesseract.tesseract_cmd = r\"D:\\Tesseract\\tesseract.exe\""
   ]
  },
  {
   "cell_type": "markdown",
   "metadata": {},
   "source": [
    "#### 3. Creating the model which will recognize the license plates"
   ]
  },
  {
   "cell_type": "code",
   "execution_count": 3,
   "metadata": {},
   "outputs": [],
   "source": [
    "def ocr_model(x):\n",
    "    img = Image.open(x)\n",
    "    text = pytesseract.image_to_string(img, lang='eng', config='-c tessedit_char_whitelist=ABCDEFGHIJKLMNOPQRSTUVWXYZ0123456789')\n",
    "    print(text)"
   ]
  },
  {
   "cell_type": "code",
   "execution_count": 4,
   "metadata": {},
   "outputs": [
    {
     "name": "stdout",
     "output_type": "stream",
     "text": [
      "200   167\n",
      "393   165\n",
      "214   213\n",
      "376   213\n"
     ]
    }
   ],
   "source": [
    "# importing the module \n",
    "import cv2 \n",
    "\n",
    "# function to display the coordinates of \n",
    "# of the points clicked on the image \n",
    "def click_event(event, x, y, flags, params): \n",
    "\n",
    "\t# checking for left mouse clicks \n",
    "\tif event == cv2.EVENT_LBUTTONDOWN: \n",
    "\n",
    "\t\t# displaying the coordinates \n",
    "\t\t# on the Shell \n",
    "\t\tprint(x, ' ', y) \n",
    "\n",
    "\t\t# displaying the coordinates \n",
    "\t\t# on the image window \n",
    "\t\tfont = cv2.FONT_HERSHEY_SIMPLEX \n",
    "\t\tcv2.putText(img, str(x) + ',' +\n",
    "\t\t\t\t\tstr(y), (x,y), font, \n",
    "\t\t\t\t\t1, (255, 0, 0), 2) \n",
    "\t\tcv2.imshow('image', img) \n",
    "\n",
    "\t# checking for right mouse clicks\t \n",
    "\tif event==cv2.EVENT_RBUTTONDOWN: \n",
    "\n",
    "\t\t# displaying the coordinates \n",
    "\t\t# on the Shell \n",
    "\t\tprint(x, ' ', y) \n",
    "\n",
    "\t\t# displaying the coordinates \n",
    "\t\t# on the image window \n",
    "\t\tfont = cv2.FONT_HERSHEY_SIMPLEX \n",
    "\t\tb = img[y, x, 0] \n",
    "\t\tg = img[y, x, 1] \n",
    "\t\tr = img[y, x, 2] \n",
    "\t\tcv2.putText(img, str(b) + ',' +\n",
    "\t\t\t\t\tstr(g) + ',' + str(r), \n",
    "\t\t\t\t\t(x,y), font, 1, \n",
    "\t\t\t\t\t(255, 255, 0), 2) \n",
    "\t\tcv2.imshow('image', img) \n",
    "\n",
    "# driver function \n",
    "if __name__==\"__main__\": \n",
    "\n",
    "\t# reading the image \n",
    "\timg = cv2.imread('./Original/Cars5.png', 1) \n",
    "\n",
    "\t# displaying the image \n",
    "\tcv2.imshow('image', img) \n",
    "\n",
    "\t# setting mouse hadler for the image \n",
    "\t# and calling the click_event() function \n",
    "\tcv2.setMouseCallback('image', click_event) \n",
    "\n",
    "\t# wait for a key to be pressed to exit \n",
    "\tcv2.waitKey(0) \n",
    "\n",
    "\t# close the window \n",
    "\tcv2.destroyAllWindows() "
   ]
  },
  {
   "cell_type": "code",
   "execution_count": 5,
   "metadata": {},
   "outputs": [],
   "source": [
    "# import the necessary packages\n",
    "import numpy as np\n",
    "import cv2\n",
    "def order_points(pts):\n",
    "\t# initialzie a list of coordinates that will be ordered\n",
    "\t# such that the first entry in the list is the top-left,\n",
    "\t# the second entry is the top-right, the third is the\n",
    "\t# bottom-right, and the fourth is the bottom-left\n",
    "\trect = np.zeros((4, 2), dtype = \"float32\")\n",
    "\t# the top-left point will have the smallest sum, whereas\n",
    "\t# the bottom-right point will have the largest sum\n",
    "\ts = pts.sum(axis = 1)\n",
    "\trect[0] = pts[np.argmin(s)]\n",
    "\trect[2] = pts[np.argmax(s)]\n",
    "\t# now, compute the difference between the points, the\n",
    "\t# top-right point will have the smallest difference,\n",
    "\t# whereas the bottom-left will have the largest difference\n",
    "\tdiff = np.diff(pts, axis = 1)\n",
    "\trect[1] = pts[np.argmin(diff)]\n",
    "\trect[3] = pts[np.argmax(diff)]\n",
    "\t# return the ordered coordinates\n",
    "\treturn rect"
   ]
  },
  {
   "cell_type": "code",
   "execution_count": 6,
   "metadata": {},
   "outputs": [],
   "source": [
    "def four_point_transform(image, pts):\n",
    "\t# obtain a consistent order of the points and unpack them\n",
    "\t# individually\n",
    "\trect = order_points(pts)\n",
    "\t(tl, tr, br, bl) = rect\n",
    "\t# compute the width of the new image, which will be the\n",
    "\t# maximum distance between bottom-right and bottom-left\n",
    "\t# x-coordiates or the top-right and top-left x-coordinates\n",
    "\twidthA = np.sqrt(((br[0] - bl[0]) ** 2) + ((br[1] - bl[1]) ** 2))\n",
    "\twidthB = np.sqrt(((tr[0] - tl[0]) ** 2) + ((tr[1] - tl[1]) ** 2))\n",
    "\tmaxWidth = max(int(widthA), int(widthB))\n",
    "\t# compute the height of the new image, which will be the\n",
    "\t# maximum distance between the top-right and bottom-right\n",
    "\t# y-coordinates or the top-left and bottom-left y-coordinates\n",
    "\theightA = np.sqrt(((tr[0] - br[0]) ** 2) + ((tr[1] - br[1]) ** 2))\n",
    "\theightB = np.sqrt(((tl[0] - bl[0]) ** 2) + ((tl[1] - bl[1]) ** 2))\n",
    "\tmaxHeight = max(int(heightA), int(heightB))\n",
    "\t# now that we have the dimensions of the new image, construct\n",
    "\t# the set of destination points to obtain a \"birds eye view\",\n",
    "\t# (i.e. top-down view) of the image, again specifying points\n",
    "\t# in the top-left, top-right, bottom-right, and bottom-left\n",
    "\t# order\n",
    "\tdst = np.array([\n",
    "\t\t[0, 0],\n",
    "\t\t[maxWidth - 1, 0],\n",
    "\t\t[maxWidth - 1, maxHeight - 1],\n",
    "\t\t[0, maxHeight - 1]], dtype = \"float32\")\n",
    "\t# compute the perspective transform matrix and then apply it\n",
    "\tM = cv2.getPerspectiveTransform(rect, dst)\n",
    "\twarped = cv2.warpPerspective(image, M, (maxWidth, maxHeight))\n",
    "\t# return the warped image\n",
    "\treturn warped"
   ]
  },
  {
   "cell_type": "code",
   "execution_count": 7,
   "metadata": {},
   "outputs": [],
   "source": [
    "import numpy as np\n",
    "image = cv2.imread(\"./Original/Cars5.png\")\n",
    "pts = np.float32([[198,167], [394,166], [212,210], [378,209]])"
   ]
  },
  {
   "cell_type": "code",
   "execution_count": 8,
   "metadata": {},
   "outputs": [
    {
     "data": {
      "text/plain": [
       "-1"
      ]
     },
     "execution_count": 8,
     "metadata": {},
     "output_type": "execute_result"
    }
   ],
   "source": [
    "warped = four_point_transform(image, pts)\n",
    "cv2.imshow(\"Original\", image)\n",
    "cv2.imshow(\"Warped\", warped)\n",
    "cv2.waitKey(0)"
   ]
  },
  {
   "cell_type": "code",
   "execution_count": 9,
   "metadata": {},
   "outputs": [
    {
     "data": {
      "text/plain": [
       "True"
      ]
     },
     "execution_count": 9,
     "metadata": {},
     "output_type": "execute_result"
    }
   ],
   "source": [
    "cv2.imwrite(\"cut1.jpg\", warped) "
   ]
  },
  {
   "cell_type": "code",
   "execution_count": 10,
   "metadata": {},
   "outputs": [
    {
     "name": "stdout",
     "output_type": "stream",
     "text": [
      "Original Dimensions :  (45, 196, 3)\n",
      "Resized Dimensions :  (202, 882, 3)\n"
     ]
    }
   ],
   "source": [
    "img = cv2.imread('cut1.jpg', cv2.IMREAD_UNCHANGED)\n",
    " \n",
    "print('Original Dimensions : ',img.shape)\n",
    " \n",
    "scale_percent = 450 # percent of original size\n",
    "width = int(img.shape[1] * scale_percent / 100)\n",
    "height = int(img.shape[0] * scale_percent / 100)\n",
    "dim = (width, height)\n",
    "  \n",
    "# resize image\n",
    "resized = cv2.resize(img, dim, interpolation = cv2.INTER_AREA)\n",
    " \n",
    "print('Resized Dimensions : ',resized.shape)\n",
    " \n",
    "cv2.imshow(\"Resized image\", resized)\n",
    "cv2.waitKey(0)\n",
    "cv2.destroyAllWindows()"
   ]
  },
  {
   "cell_type": "code",
   "execution_count": 11,
   "metadata": {},
   "outputs": [
    {
     "data": {
      "text/plain": [
       "True"
      ]
     },
     "execution_count": 11,
     "metadata": {},
     "output_type": "execute_result"
    }
   ],
   "source": [
    "cv2.imwrite(\"cut2_resized.jpg\", resized) "
   ]
  },
  {
   "cell_type": "markdown",
   "metadata": {},
   "source": [
    "**IMAGE**"
   ]
  },
  {
   "cell_type": "code",
   "execution_count": 12,
   "metadata": {
    "scrolled": true
   },
   "outputs": [
    {
     "data": {
      "image/jpeg": "[encoded data removed]",
      "text/plain": [
       "<IPython.core.display.Image object>"
      ]
     },
     "execution_count": 12,
     "metadata": {},
     "output_type": "execute_result"
    }
   ],
   "source": [
    "from IPython.display import Image\n",
    "Image('cut2_resized.jpg')"
   ]
  },
  {
   "cell_type": "markdown",
   "metadata": {},
   "source": [
    "**READING**"
   ]
  },
  {
   "cell_type": "code",
   "execution_count": 13,
   "metadata": {},
   "outputs": [
    {
     "name": "stdout",
     "output_type": "stream",
     "text": [
      "JA62UAR\n",
      "\n"
     ]
    }
   ],
   "source": [
    "from PIL import Image\n",
    "ocr_model('cut2_resized.jpg')"
   ]
  },
  {
   "cell_type": "markdown",
   "metadata": {},
   "source": [
    "**IMAGE SHARPENING**"
   ]
  },
  {
   "cell_type": "code",
   "execution_count": 14,
   "metadata": {},
   "outputs": [],
   "source": [
    "import cv2\n",
    "import numpy as np\n",
    "# Reading in and displaying our image\n",
    "image = cv2.imread('cut2_resized.jpg')\n",
    "cv2.imshow('Original', image)\n",
    "# Create our shapening kernel, it must equal to one eventually\n",
    "kernel_sharpening = np.array([[-1,-1,-1], \n",
    "                              [-1, 9,-1],\n",
    "                              [-1,-1,-1]])\n",
    "# applying the sharpening kernel to the input image & displaying it.\n",
    "sharpened = cv2.filter2D(image, -1, kernel_sharpening)\n",
    "cv2.imshow('Image Sharpening', sharpened)\n",
    "cv2.waitKey(0)\n",
    "cv2.destroyAllWindows()"
   ]
  },
  {
   "cell_type": "code",
   "execution_count": 15,
   "metadata": {},
   "outputs": [
    {
     "data": {
      "text/plain": [
       "True"
      ]
     },
     "execution_count": 15,
     "metadata": {},
     "output_type": "execute_result"
    }
   ],
   "source": [
    "cv2.imwrite('cut2_resized.jpg',sharpened)"
   ]
  },
  {
   "cell_type": "code",
   "execution_count": 16,
   "metadata": {},
   "outputs": [
    {
     "name": "stdout",
     "output_type": "stream",
     "text": [
      "\n"
     ]
    }
   ],
   "source": [
    "from PIL import Image\n",
    "ocr_model('cut2_resized.jpg')"
   ]
  },
  {
   "cell_type": "code",
   "execution_count": 17,
   "metadata": {},
   "outputs": [],
   "source": [
    "def gray(img):\n",
    "    \n",
    "    img = cv2.cvtColor(img, cv2.COLOR_BGR2GRAY)\n",
    "    cv2.imwrite(\"cut2_resized.jpg\",img)\n",
    "    return img"
   ]
  },
  {
   "cell_type": "code",
   "execution_count": 18,
   "metadata": {},
   "outputs": [
    {
     "data": {
      "text/plain": [
       "array([[218, 218, 218, ..., 201, 201, 201],\n",
       "       [218, 218, 218, ..., 201, 201, 201],\n",
       "       [218, 218, 218, ..., 201, 201, 201],\n",
       "       ...,\n",
       "       [184, 184, 184, ..., 184, 184, 184],\n",
       "       [184, 184, 184, ..., 184, 184, 184],\n",
       "       [184, 184, 184, ..., 184, 184, 184]], dtype=uint8)"
      ]
     },
     "execution_count": 18,
     "metadata": {},
     "output_type": "execute_result"
    }
   ],
   "source": [
    "gray(image)"
   ]
  },
  {
   "cell_type": "code",
   "execution_count": 19,
   "metadata": {},
   "outputs": [
    {
     "name": "stdout",
     "output_type": "stream",
     "text": [
      "JA6B2UAR\n",
      "\n"
     ]
    }
   ],
   "source": [
    "from PIL import Image\n",
    "ocr_model('cut2_resized.jpg')"
   ]
  },
  {
   "cell_type": "code",
   "execution_count": 20,
   "metadata": {},
   "outputs": [],
   "source": [
    "def threshold(img):\n",
    "    #pixels with value below 100 are turned black (0) and those with higher value are turned white (255)\n",
    "    img = cv2.threshold(img, 100, 255, cv2.THRESH_OTSU | cv2.THRESH_BINARY)[1]    \n",
    "    cv2.imwrite(\"cut4_threshold.jpg\",img)\n",
    "    return img"
   ]
  },
  {
   "cell_type": "code",
   "execution_count": 21,
   "metadata": {},
   "outputs": [],
   "source": [
    "image = cv2.imread('cut2_resized.jpg', cv2.IMREAD_GRAYSCALE)\n",
    "im_thresh = threshold(image)"
   ]
  },
  {
   "cell_type": "code",
   "execution_count": 22,
   "metadata": {},
   "outputs": [
    {
     "name": "stdout",
     "output_type": "stream",
     "text": [
      "JA6B2UAR\n",
      "\n"
     ]
    }
   ],
   "source": [
    "from PIL import Image\n",
    "ocr_model('cut4_threshold.jpg')"
   ]
  },
  {
   "cell_type": "code",
   "execution_count": 23,
   "metadata": {},
   "outputs": [],
   "source": [
    "def blur(img) :\n",
    "    img_blur = cv2.GaussianBlur(img,(5,5),0)\n",
    "    cv2.imwrite(\"cut4_blur.jpg\",img)    \n",
    "    return img_blur"
   ]
  },
  {
   "cell_type": "code",
   "execution_count": 24,
   "metadata": {},
   "outputs": [
    {
     "data": {
      "text/plain": [
       "array([[218, 218, 218, ..., 201, 201, 201],\n",
       "       [218, 218, 218, ..., 201, 201, 201],\n",
       "       [218, 218, 218, ..., 202, 201, 201],\n",
       "       ...,\n",
       "       [184, 184, 184, ..., 184, 184, 184],\n",
       "       [184, 184, 184, ..., 184, 184, 184],\n",
       "       [184, 184, 184, ..., 184, 184, 184]], dtype=uint8)"
      ]
     },
     "execution_count": 24,
     "metadata": {},
     "output_type": "execute_result"
    }
   ],
   "source": [
    "blur(image)"
   ]
  },
  {
   "cell_type": "code",
   "execution_count": 25,
   "metadata": {},
   "outputs": [
    {
     "name": "stdout",
     "output_type": "stream",
     "text": [
      "JA62UAR\n",
      "\n"
     ]
    }
   ],
   "source": [
    "from PIL import Image\n",
    "ocr_model('cut4_blur.jpg')"
   ]
  },
  {
   "cell_type": "markdown",
   "metadata": {},
   "source": [
    "#### 4. Creating lists containing actual license plate and detected license plate names respectively"
   ]
  },
  {
   "cell_type": "code",
   "execution_count": 26,
   "metadata": {},
   "outputs": [],
   "source": [
    "actual_license_plates = []\n",
    "for x in glob.glob(r\"D:\\AI-JOS\\Resized\\*.jpg\"):\n",
    "    y = x.split(\"\\\\\")[-1].split(\".\")[0]\n",
    "    actual_license_plates.append(y)"
   ]
  },
  {
   "cell_type": "code",
   "execution_count": 27,
   "metadata": {},
   "outputs": [],
   "source": [
    "predicted_license_plates = []\n",
    "for x in glob.glob(r\"D:\\AI-JOS\\Resized\\*.jpg\"):\n",
    "    img = Image.open(x)\n",
    "    text = pytesseract.image_to_string(img, lang='eng', config='-c tessedit_char_whitelist=ABCDEFGHIJKLMNOPQRSTUVWXYZ0123456789')\n",
    "    predicted_license_plates.append(text)"
   ]
  },
  {
   "cell_type": "markdown",
   "metadata": {},
   "source": [
    "#### 5. Actual vs Predicted"
   ]
  },
  {
   "cell_type": "code",
   "execution_count": 28,
   "metadata": {
    "scrolled": true
   },
   "outputs": [
    {
     "name": "stdout",
     "output_type": "stream",
     "text": [
      "Actual License Plate \t Predicted License Plate \t\n",
      "-------------------- \t ----------------------- \t\n",
      "\t  DZ17YXR \t\t\t  \t\t\t\n",
      "\t  J98257 \t\t\t JS8257\n",
      " \t\t\t\n",
      "\t  JA62UAR \t\t\t JA62UAR\n",
      " \t\t\t\n",
      "\t  MH12BG7237 \t\t\t MH12BG7237\n",
      " \t\t\t\n",
      "\t  MHO1AV8866 \t\t\t MHO1AV8866\n",
      " \t\t\t\n",
      "\t  OX65AWD \t\t\t  \t\t\t\n",
      "\t  WOR516K \t\t\t  \t\t\t\n"
     ]
    }
   ],
   "source": [
    "print(\"Actual License Plate\", \"\\t\", \"Predicted License Plate\", \"\\t\" ) \n",
    "print(\"--------------------\", \"\\t\", \"-----------------------\", \"\\t\" ) \n",
    "\n",
    "def calculate_predicted_accuracy(actual_list, predicted_list): \n",
    "    for actual_plate, predict_plate in zip(actual_list, predicted_list): \n",
    "        accuracy = \"0 %\"\n",
    "        num_matches = 0\n",
    "        if actual_plate == predict_plate: \n",
    "            accuracy = \"100 %\"\n",
    "        else: \n",
    "            if len(actual_plate) == len(predict_plate): \n",
    "                for a, p in zip(actual_plate, predict_plate): \n",
    "                    if a == p: \n",
    "                        num_matches += 1\n",
    "                accuracy = str(round((num_matches / len(actual_plate)), 2) * 100) \n",
    "                accuracy += \"%\"\n",
    "        print(\"\t \", actual_plate, \"\\t\\t\\t\", predict_plate, \"\\t\\t\\t\",) \n",
    "\n",
    "\n",
    "calculate_predicted_accuracy(actual_license_plates, predicted_license_plates)"
   ]
  }
 ],
 "metadata": {
  "kernelspec": {
   "display_name": "Python 3.10.4 64-bit",
   "language": "python",
   "name": "python3"
  },
  "language_info": {
   "codemirror_mode": {
    "name": "ipython",
    "version": 3
   },
   "file_extension": ".py",
   "mimetype": "text/x-python",
   "name": "python",
   "nbconvert_exporter": "python",
   "pygments_lexer": "ipython3",
   "version": "3.10.4"
  },
  "vscode": {
   "interpreter": {
    "hash": "229cdfb8eedfa4964725b7eb0da8d7a63b25d97a6ab808f09bd6b506844c0629"
   }
  }
 },
 "nbformat": 4,
 "nbformat_minor": 4
}
